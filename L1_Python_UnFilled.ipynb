{
 "cells": [
  {
   "cell_type": "markdown",
   "id": "24cd22ba-e1c1-4f92-9c9f-9667cb43996b",
   "metadata": {},
   "source": [
    "# Python Basics for Quantitive Finance "
   ]
  },
  {
   "cell_type": "markdown",
   "id": "a361e17e-8121-4c84-b288-7e6ea3bd0677",
   "metadata": {},
   "source": [
    "## Python Progamming Principles \n",
    "\n",
    "### An Alogrithm is a series of steps that execute to perform a specific Task \n",
    "\n",
    "### A Program is a set of coded algorithms to perform a task or solve a problem \n",
    "\n",
    "### Computers are able to understand Algorithms through low level language  \n",
    "\n",
    "### Python is Interpreted from Left to Right & Top to Bottom in a program "
   ]
  },
  {
   "cell_type": "markdown",
   "id": "8e04d0a0-ba24-4556-b005-a5f4123eaeea",
   "metadata": {},
   "source": [
    "## Basic Data Types \n",
    "\n",
    "#### Integer(Int) - Any zero, positive, or negative whole number "
   ]
  },
  {
   "cell_type": "code",
   "execution_count": 1,
   "id": "5962b80a-6d9c-4157-97a2-5f79c5a387e9",
   "metadata": {},
   "outputs": [],
   "source": [
    "# Type out Postitive integer\n"
   ]
  },
  {
   "cell_type": "code",
   "execution_count": 2,
   "id": "e38a0274-7141-4a75-8031-08c9e9fb1e23",
   "metadata": {},
   "outputs": [],
   "source": [
    "# Type out Negative integer"
   ]
  },
  {
   "cell_type": "code",
   "execution_count": 3,
   "id": "73da966a-fe25-456e-b65b-f0c8139e2fe6",
   "metadata": {},
   "outputs": [],
   "source": [
    "# Use print Statement on a integer "
   ]
  },
  {
   "cell_type": "markdown",
   "id": "6fa0ab70-0cc4-4fcd-b267-0210d7909c31",
   "metadata": {},
   "source": [
    "#### Float(float) - A Float represents any number with a decimal "
   ]
  },
  {
   "cell_type": "code",
   "execution_count": 4,
   "id": "e86caea4-2ded-4894-a38c-884f83229de3",
   "metadata": {},
   "outputs": [],
   "source": [
    "# print out a float"
   ]
  },
  {
   "cell_type": "code",
   "execution_count": 5,
   "id": "79367d56-b729-4840-9e47-f6edb0c3bccf",
   "metadata": {},
   "outputs": [],
   "source": [
    "# print out another float with a 0 as a decimal\n"
   ]
  },
  {
   "cell_type": "code",
   "execution_count": 6,
   "id": "deeec9d1-d8d0-4f76-a03d-6be9a4a03119",
   "metadata": {},
   "outputs": [],
   "source": [
    "# print out a more complex float with more decimals"
   ]
  },
  {
   "cell_type": "markdown",
   "id": "d8ea68cf-9e4e-4890-a431-eb08b90501d9",
   "metadata": {},
   "source": [
    "#### String(Str) - A Sequence of characters used to represent text, uses Quotation Marks "
   ]
  },
  {
   "cell_type": "code",
   "execution_count": 7,
   "id": "f04249fe-70f0-45f9-9166-d6026607e5d5",
   "metadata": {},
   "outputs": [],
   "source": [
    "# type the string/word \"Volatility\" "
   ]
  },
  {
   "cell_type": "code",
   "execution_count": 8,
   "id": "47f7194d-f83c-4a38-8e8a-bb506be8b058",
   "metadata": {},
   "outputs": [],
   "source": [
    "# print \"Vega\""
   ]
  },
  {
   "cell_type": "code",
   "execution_count": 9,
   "id": "90f0b94c-009e-4d36-917a-cf08f532986f",
   "metadata": {},
   "outputs": [],
   "source": [
    "# print \"NYSE\""
   ]
  },
  {
   "cell_type": "markdown",
   "id": "0db24070-5bad-4eee-830c-7c2abcc0b9f8",
   "metadata": {},
   "source": [
    "#### Get the Data Type of a Value "
   ]
  },
  {
   "cell_type": "code",
   "execution_count": 10,
   "id": "b091fd0e-5839-4d3d-a390-8148802b8bda",
   "metadata": {},
   "outputs": [],
   "source": [
    "# get the data type of \"NYSE\"\n"
   ]
  },
  {
   "cell_type": "code",
   "execution_count": 11,
   "id": "4c189935-3903-416b-8bb8-9c5bb6cefd2d",
   "metadata": {},
   "outputs": [],
   "source": [
    "# get the type of an integer"
   ]
  },
  {
   "cell_type": "code",
   "execution_count": 12,
   "id": "99b1f8ee-c424-4178-b812-465c47b28b32",
   "metadata": {},
   "outputs": [],
   "source": [
    "# get the type of a float "
   ]
  },
  {
   "cell_type": "markdown",
   "id": "7a0a8bc0-731c-41e9-958e-538f8b2a528b",
   "metadata": {},
   "source": [
    "### Variables and Assignments "
   ]
  },
  {
   "cell_type": "markdown",
   "id": "2d9acc27-f008-4494-96a3-71c7f7e23897",
   "metadata": {},
   "source": [
    "#### Variable - A Reference Name for a stored value \n",
    "\n",
    "#### Variables can be assigned a Designated Expression/Value(Data Type) in your Program\n",
    "#### Variable names are simply string labels \n",
    "\n",
    "#### Structure: Variable_Name = Expression"
   ]
  },
  {
   "cell_type": "code",
   "execution_count": 13,
   "id": "2b99751f-55f4-4d7e-8ca9-b35660dd01b2",
   "metadata": {},
   "outputs": [],
   "source": [
    "# assign the string \"value\" to a variable named variable_name"
   ]
  },
  {
   "cell_type": "code",
   "execution_count": 14,
   "id": "fbc57171-d018-4a2a-bc22-9ec310078375",
   "metadata": {},
   "outputs": [],
   "source": [
    "# assign the integer 5 to x"
   ]
  },
  {
   "cell_type": "code",
   "execution_count": 15,
   "id": "b62a54b5-2c3f-4fa9-8070-c3ba7463b937",
   "metadata": {},
   "outputs": [],
   "source": [
    "# assign 247.04 to Apple_Price"
   ]
  },
  {
   "cell_type": "code",
   "execution_count": 16,
   "id": "90ae6395-6842-4776-ad2c-6ce3a1ff2f85",
   "metadata": {},
   "outputs": [],
   "source": [
    "# print the variable Apple_Price"
   ]
  },
  {
   "cell_type": "markdown",
   "id": "c23db337-a743-4220-be60-0ca3f6cc036d",
   "metadata": {},
   "source": [
    "#### Python is Interpreted from Left to Right & Top to Bottom in a program, this is key when you are assigning values to variables  "
   ]
  },
  {
   "cell_type": "code",
   "execution_count": 17,
   "id": "7f8cccc3-a506-4bc1-85d4-db5c645eff68",
   "metadata": {},
   "outputs": [],
   "source": [
    "# set the variable x to 2, then change it to 3, now set the variable y to x. Finally Print y"
   ]
  },
  {
   "cell_type": "markdown",
   "id": "fb602642-c012-4b22-a916-1c18a316d35d",
   "metadata": {},
   "source": [
    "### Math Operators "
   ]
  },
  {
   "cell_type": "markdown",
   "id": "5fa275cd-afa3-4f68-94f1-bd705d0ef6d9",
   "metadata": {},
   "source": [
    "#### + - * / // % **"
   ]
  },
  {
   "cell_type": "code",
   "execution_count": 18,
   "id": "453fe5ef-5e13-4023-a073-530b4e66fd97",
   "metadata": {},
   "outputs": [],
   "source": [
    "# add 5.2 and 5 "
   ]
  },
  {
   "cell_type": "code",
   "execution_count": 19,
   "id": "6372183b-b741-41b4-a3d8-7af8a8da7848",
   "metadata": {},
   "outputs": [],
   "source": [
    "# subtract 1000 - 100"
   ]
  },
  {
   "cell_type": "code",
   "execution_count": 20,
   "id": "e7625bd6-30a1-4d55-91ae-5c272c7f7db3",
   "metadata": {},
   "outputs": [],
   "source": [
    "# multiply 10 times 10 "
   ]
  },
  {
   "cell_type": "code",
   "execution_count": 21,
   "id": "47a7521b-2488-404f-a829-068afec97634",
   "metadata": {},
   "outputs": [],
   "source": [
    "# divide 10 by 3 to get a remainder"
   ]
  },
  {
   "cell_type": "code",
   "execution_count": 22,
   "id": "056be6c1-c548-4c2e-9b88-e27dfeb9de9f",
   "metadata": {},
   "outputs": [],
   "source": [
    "# divide 10 by 3 to not get a remainder"
   ]
  },
  {
   "cell_type": "code",
   "execution_count": 23,
   "id": "9a9324f3-89c0-4ee6-8ef8-338fba42a7f1",
   "metadata": {},
   "outputs": [],
   "source": [
    "# get the remainder of 10 divided by 3 "
   ]
  },
  {
   "cell_type": "markdown",
   "id": "f75f94dc-464c-4013-b94b-e11b09d878f5",
   "metadata": {},
   "source": [
    "#### "
   ]
  },
  {
   "cell_type": "markdown",
   "id": "3188f75c-ab06-403b-8549-719c7d6b91ef",
   "metadata": {},
   "source": [
    "#### Exponent Structure: Base ** Exponent "
   ]
  },
  {
   "cell_type": "markdown",
   "id": "499d35a6-9cc2-4583-9f4e-b9a7ac889eaa",
   "metadata": {},
   "source": [
    "#### Exponent Structure: Base ** Exponent "
   ]
  },
  {
   "cell_type": "code",
   "execution_count": 24,
   "id": "b4f4c094-9327-4a85-b72b-affb5d794466",
   "metadata": {},
   "outputs": [],
   "source": [
    "# raise a base of 2 to the power of 3"
   ]
  },
  {
   "cell_type": "markdown",
   "id": "e6ee3596-f33a-4ca3-9064-bfe00090bc1c",
   "metadata": {},
   "source": [
    "#### Laws of Pemdas are Followed in Python "
   ]
  },
  {
   "cell_type": "code",
   "execution_count": 25,
   "id": "cc4c5c63-3488-4b5f-82c7-5c844de7d374",
   "metadata": {},
   "outputs": [],
   "source": [
    "# raise the sum of (1+1) to the power of 2 then add 1 "
   ]
  },
  {
   "attachments": {},
   "cell_type": "markdown",
   "id": "af4f94c5-b8a3-43af-a62b-bc07619a50ef",
   "metadata": {},
   "source": [
    "### Boolean Logic \n",
    "\n",
    "#### Boolean Logic is mathematical compuation stating that variables can either have binary values of True - 1 and False - 0, these can serve useful in programs "
   ]
  },
  {
   "cell_type": "code",
   "execution_count": 26,
   "id": "1353088f-3de2-4fc9-afb2-6fec2d90329e",
   "metadata": {},
   "outputs": [],
   "source": [
    "# Proving Boolean Logic & Binary Values, Saying that 1 is 1 (True) and 0 is not 1 (False)"
   ]
  },
  {
   "cell_type": "code",
   "execution_count": 27,
   "id": "822aaf27-f904-4a96-b52c-6c40cac76105",
   "metadata": {},
   "outputs": [],
   "source": [
    "# Basically saying 0 is 0 "
   ]
  },
  {
   "cell_type": "markdown",
   "id": "f6b6e324-f6a5-450e-b194-e122b60f9dfc",
   "metadata": {},
   "source": [
    "#### and, or , not "
   ]
  },
  {
   "cell_type": "code",
   "execution_count": 28,
   "id": "71ee9e65-5e6f-46dd-ba19-de0097596f98",
   "metadata": {},
   "outputs": [],
   "source": [
    "# Both variables are True(1) therefore it is True(1)"
   ]
  },
  {
   "cell_type": "code",
   "execution_count": 29,
   "id": "9885b1a4-3e98-4e85-9668-f3f90171bd2a",
   "metadata": {},
   "outputs": [],
   "source": [
    "# integer is 1 and the other is 0 therefore it is 0(False) "
   ]
  },
  {
   "cell_type": "code",
   "execution_count": 30,
   "id": "c33c2e4e-02b3-4bb7-b8c3-4c2e850d725b",
   "metadata": {},
   "outputs": [],
   "source": [
    "# Checks if a 1 or 0 is present so it therefore evaluates to 1 (True) "
   ]
  },
  {
   "cell_type": "code",
   "execution_count": 31,
   "id": "49464abe-08a8-4f5b-b1b7-c4d54512a9b3",
   "metadata": {},
   "outputs": [],
   "source": [
    "# Evaluates as False since 1 is present in the statement "
   ]
  },
  {
   "cell_type": "markdown",
   "id": "6959bf36-4925-46f7-ad07-b330d6fd8999",
   "metadata": {},
   "source": [
    "#### **Comparison Operators**\n",
    "\n",
    "#### < > <= >= == != "
   ]
  },
  {
   "cell_type": "code",
   "execution_count": 32,
   "id": "b957198e-0f9f-4f02-93c4-244c6860f1c7",
   "metadata": {},
   "outputs": [],
   "source": [
    "# check that 10 is less than or equal to 10 "
   ]
  },
  {
   "cell_type": "code",
   "execution_count": 33,
   "id": "67b90794-39cb-40ed-a0dc-fc79c089e907",
   "metadata": {},
   "outputs": [],
   "source": [
    "# check is 54 is greater than 10 "
   ]
  },
  {
   "cell_type": "code",
   "execution_count": 34,
   "id": "3d674336-97a6-49cc-9eef-6be2a21695be",
   "metadata": {},
   "outputs": [],
   "source": [
    "# check is 10 is equal to 10 "
   ]
  },
  {
   "cell_type": "code",
   "execution_count": 35,
   "id": "4d30da11-991b-4f75-a2b7-d247ccfe1993",
   "metadata": {},
   "outputs": [],
   "source": [
    "# check if 10 is not equal to 11 "
   ]
  },
  {
   "cell_type": "markdown",
   "id": "a2e97e36-8899-40fe-8617-da868233a08d",
   "metadata": {},
   "source": [
    "#### **Challenge Question** - read all steps before beginning\n",
    "\n",
    "#### 1. Find a number and assign it to the variable x\n",
    "\n",
    "#### 2. Multiply that variable by 2 and assign that to the variable SOFI_Ticker_Price. \n",
    "\n",
    "#### 3. Perform a boolean condition to prove that the SOFT_Ticker_Price is more than 10 and less than 20. \n",
    "\n",
    "#### 4. Your Output should show \"True\" "
   ]
  },
  {
   "cell_type": "code",
   "execution_count": null,
   "id": "8681ce2f-3bd7-44c0-962d-93a8bb758dd5",
   "metadata": {},
   "outputs": [],
   "source": []
  },
  {
   "cell_type": "markdown",
   "id": "874a0011-6e7c-419e-9392-7e867100c65c",
   "metadata": {},
   "source": [
    "### **Data Collection Types** - A Data Collection is a Data Type that can hold multiple items or values\n",
    "\n",
    "#### Lists, Tuples, Dictionaries"
   ]
  },
  {
   "cell_type": "markdown",
   "id": "137a0a8c-b24f-4f1f-8937-f93d7a25e56f",
   "metadata": {},
   "source": [
    "#### **Data Collections & Types can be immutable or mutable**\n",
    "\n",
    "#### ***Immutable***: information/attributes that cannot be changed or altered after it is created \n",
    "#### - examples of Immutable Data Types: Integers, Floats, Strings, Tuples \n",
    "\n",
    "\n",
    "#### ***Mutable***: information/attributes that can be changed or altered after it is created \n",
    "#### - examples of Mutable Data Types: Lists, Dictionaries "
   ]
  },
  {
   "cell_type": "markdown",
   "id": "ceca0753-4acd-4bf8-857f-38efd5c79899",
   "metadata": {},
   "source": [
    "### Lists - data structure that represents an ordered, mutable collection of items\n",
    "\n",
    "#### structure:   my_list = [ item1, item2, item3 ] "
   ]
  },
  {
   "cell_type": "code",
   "execution_count": 36,
   "id": "06caed8d-fc15-4df7-a36a-0d4c3ff345eb",
   "metadata": {},
   "outputs": [],
   "source": [
    "#### Assign the values 284.65, 290.32, 285.62 to a list called Tesla "
   ]
  },
  {
   "cell_type": "code",
   "execution_count": 37,
   "id": "062bdd88-fd33-41f9-9e00-8c48dee30995",
   "metadata": {},
   "outputs": [],
   "source": [
    "# create an emply list called apple_prices"
   ]
  },
  {
   "cell_type": "code",
   "execution_count": 38,
   "id": "18dc94e9-b82b-4592-93cc-0c9ee0dea62e",
   "metadata": {},
   "outputs": [],
   "source": [
    "# append(add) the value 238.03 to apple_prices "
   ]
  },
  {
   "cell_type": "markdown",
   "id": "b173a321-b1cd-41d7-89fc-baa0e05d5893",
   "metadata": {},
   "source": [
    "### Tuple - a built in data structure that represents an ordered, immutable collection of items - Tuples are a great way to respresent records or constant values \n",
    "\n",
    "#### structure: my_tuple = ( item1, item2, item3 )"
   ]
  },
  {
   "cell_type": "code",
   "execution_count": 39,
   "id": "6189806e-2759-4286-a568-2a5090ca7195",
   "metadata": {},
   "outputs": [],
   "source": [
    "# create a tuple with the values 1001, \"2025-03-03\", \"AAPL\", 238.03, 100, \"buy\" "
   ]
  },
  {
   "cell_type": "markdown",
   "id": "02e6fd98-169f-4e72-b8bc-9c9514905a29",
   "metadata": {},
   "source": [
    "#### Dictionary - a built in data structure that represents an unordered, mutable collection of key-value pairs \n",
    "\n",
    "#### structure -  my_dict = { key1:value1, key2:value2, key3:value3 }"
   ]
  },
  {
   "cell_type": "code",
   "execution_count": 40,
   "id": "03bd12ef-4877-4292-adaa-3ebfe595de3c",
   "metadata": {},
   "outputs": [],
   "source": [
    "# Create a dictionary named stock_prices with the following key value pairs: \"APPL\":238.03,\"GOOG\":142.32,\"TSLA\":285.62"
   ]
  },
  {
   "cell_type": "markdown",
   "id": "71250c71-967b-4c8c-8810-b874b8ff9119",
   "metadata": {},
   "source": [
    "#### Python is 0-indexed. You can access values inside Lists and Tuples using Indexes"
   ]
  },
  {
   "cell_type": "code",
   "execution_count": 41,
   "id": "6bb52a81-6866-4dc7-b241-ec4c2d2cd92b",
   "metadata": {},
   "outputs": [],
   "source": [
    "# output index 0 of tesla_prices"
   ]
  },
  {
   "cell_type": "code",
   "execution_count": 42,
   "id": "543e48c0-f498-4f03-a0e4-30fea389bfc9",
   "metadata": {},
   "outputs": [],
   "source": [
    "# output index 2 of trade_record"
   ]
  },
  {
   "cell_type": "code",
   "execution_count": 43,
   "id": "d3f26b9b-2da6-4cda-a635-00adc605696f",
   "metadata": {},
   "outputs": [],
   "source": [
    "# output the index 0 to the end of tesla_prices"
   ]
  },
  {
   "cell_type": "markdown",
   "id": "36d7c5b7-f137-4944-a912-821e0319eb1a",
   "metadata": {},
   "source": [
    "#### You can access Dictionary Values using a Key\n",
    "\n",
    "#### Remember - structure :  my_dict = { key1:value1, key2:value2, key3:value3 }"
   ]
  },
  {
   "cell_type": "code",
   "execution_count": 44,
   "id": "71109a32-467e-45b6-a844-da3b6959cd57",
   "metadata": {},
   "outputs": [],
   "source": [
    "# access the value of the key \"APPL\" of the stock "
   ]
  },
  {
   "cell_type": "markdown",
   "id": "e5917274-fc3c-4349-b766-dfa2718ebced",
   "metadata": {},
   "source": [
    "### **Control Flow** \n",
    "\n",
    "### Control Flow refers to the order/decision structure in which a program's statements or instructions are executed \n",
    "\n",
    "\n"
   ]
  },
  {
   "cell_type": "markdown",
   "id": "d6778387-b2fb-4500-8c46-30fff47355ba",
   "metadata": {},
   "source": [
    "#### Common Control Flow Statements: \n",
    "\n",
    "#### - Conditional Statements, Logical Statements, Loops "
   ]
  },
  {
   "cell_type": "markdown",
   "id": "266380f3-e9f7-4e57-b61c-e117e43e1895",
   "metadata": {},
   "source": [
    "#### *Note that Control Flow is Indentation Sensitive meaning that Python Interprets code statements from left to right*"
   ]
  },
  {
   "cell_type": "markdown",
   "id": "639159c7-f97a-4db1-86f4-32acea2114c9",
   "metadata": {},
   "source": [
    "### Conditional Statements: if , else statement (2 Decisions)\n",
    "\n",
    "#### **Structure**-\n",
    "\n",
    "#### if condition:\n",
    "####              &emsp;  code to execute if condition is True\n",
    "          \n",
    "####             else:\n",
    "####              &emsp;   code to execute if condition is False\n",
    "    "
   ]
  },
  {
   "cell_type": "code",
   "execution_count": 45,
   "id": "712a4985-7c18-498c-86f9-71898ab1b0b2",
   "metadata": {},
   "outputs": [],
   "source": [
    "# Create an else if statement with two assigned variables short_ma and long_ma to construct a trade with 2 decisions"
   ]
  },
  {
   "cell_type": "markdown",
   "id": "3a787c3a-7c1b-47f5-8fb8-278f4147b978",
   "metadata": {},
   "source": [
    "### Conditional Statements: elif statement (more than 2 decisions)\n",
    "\n",
    "#### **Structure**-\n",
    "\n",
    "#### if condition1\n",
    "#### &emsp;code to execute if condition1 is True\n",
    "  \n",
    "#### elif condition2:\n",
    "#### &emsp;code to execute if condition2 is True\n",
    "    \n",
    "#### else:\n",
    "#### &emsp; code to execute if none of the conditions are True\n",
    "    "
   ]
  },
  {
   "cell_type": "code",
   "execution_count": 46,
   "id": "8cf5051a-406e-45c7-87e1-17e034dc0948",
   "metadata": {},
   "outputs": [],
   "source": [
    "# Create an elif statement with two assigned variables short_ma and long_ma to construct a trade with 3 decisions"
   ]
  },
  {
   "cell_type": "markdown",
   "id": "3e3903a8-e6bc-46b4-95c1-f4a759becb6f",
   "metadata": {},
   "source": [
    "### Boolean Condition Statements (Extended)"
   ]
  },
  {
   "cell_type": "markdown",
   "id": "28901966-467e-459c-87b5-c5fa580d3267",
   "metadata": {},
   "source": [
    "#### Note that a Boolean will Execute if it is True(1) or Present in a Conditional Statement\n",
    "\n",
    "#### Look at the example of the variable is_market_open in this example below "
   ]
  },
  {
   "cell_type": "markdown",
   "id": "4140ff8f-18a0-401b-8083-543cf17e1a43",
   "metadata": {},
   "source": [
    "#### *Note that for a Boolean to Execute in a Conditional Statement it has to be True(1) or simply Preent in the Statement*\n",
    "\n",
    "#### **Therefore look at the variable is_market_open in the example below**"
   ]
  },
  {
   "cell_type": "code",
   "execution_count": 47,
   "id": "352980c7-b38c-413b-a2b9-db1196f1b086",
   "metadata": {},
   "outputs": [],
   "source": [
    "# Using variables price, moving_average, volume, avg_volume, and is_market_open construct a trading strategy using if, elif, and else statement"
   ]
  },
  {
   "cell_type": "markdown",
   "id": "ed19c54a-0755-4369-b625-f1073273dca7",
   "metadata": {},
   "source": [
    "### **For Loops**\n",
    "\n",
    "#### Loops are Control structures that allow you to repeat a block of code a fixed number of times or iterate over a sequence "
   ]
  },
  {
   "cell_type": "markdown",
   "id": "4713b819-186f-40e3-ac44-c8253000f357",
   "metadata": {},
   "source": [
    "#### **For Loop Structure** \n",
    "\n",
    "#### for var in sequence:\n",
    "#### &emsp; statement 1 \n",
    "#### &emsp; statement 2 "
   ]
  },
  {
   "cell_type": "code",
   "execution_count": 48,
   "id": "9c33f633-2e03-4f4f-9594-7730a0a087d7",
   "metadata": {},
   "outputs": [],
   "source": [
    "# iterate over a list of price to subtract 9 from each price to print a profit for each list item "
   ]
  },
  {
   "cell_type": "code",
   "execution_count": null,
   "id": "a67e4e9b-bcb0-4945-8e69-626472015fc6",
   "metadata": {},
   "outputs": [],
   "source": []
  },
  {
   "cell_type": "markdown",
   "id": "83eaeed7-a926-422e-b7aa-2c502fa63c6e",
   "metadata": {},
   "source": [
    "### break Statement\n",
    "\n",
    "#### A break Statement is used in loops & conditional statement combinations to immediately terminate the loop and escape it when a certain condition is met"
   ]
  },
  {
   "cell_type": "markdown",
   "id": "d861789b-68ab-4b4d-bf42-d56c96c09b50",
   "metadata": {},
   "source": [
    "#### **break Structure**\n",
    "\n",
    "#### for variable in sequence:\n",
    "\n",
    "#### &emsp;       if condition: \n",
    "#### &emsp;&emsp;           code to execute if condition is True\n",
    "#### &emsp;&emsp;           break "
   ]
  },
  {
   "cell_type": "code",
   "execution_count": 49,
   "id": "025b7825-474e-405a-b2a0-1bb2ad7b509a",
   "metadata": {},
   "outputs": [],
   "source": [
    "# Using the variables price, moving_average, volume, avg_volume and is_market_open to construct a for loop & elif statement using break statements for a trading strategy   "
   ]
  },
  {
   "cell_type": "markdown",
   "id": "9180f45f-204f-485d-bf77-46c8b5d11202",
   "metadata": {},
   "source": [
    "### **while Loop**\n",
    "\n",
    "#### A while loop in Python is a control structure that repeatedly executes a block of code as long as a specified condition remains True."
   ]
  },
  {
   "cell_type": "markdown",
   "id": "f2dcc748-cd69-4cb1-840d-818daa412095",
   "metadata": {},
   "source": [
    "#### while Loop Structure\n",
    "\n",
    "#### while condition:\n",
    "\n",
    "#### &emsp;code to execute if condition is True\n"
   ]
  },
  {
   "cell_type": "code",
   "execution_count": 50,
   "id": "cb3a4a93-9e92-4b92-ad07-4f874404e3df",
   "metadata": {},
   "outputs": [],
   "source": [
    "# using the variables stock_price, target_price, iterations, trun "
   ]
  },
  {
   "cell_type": "markdown",
   "id": "799edfc8-7719-46a4-92d8-63d2349eab4a",
   "metadata": {},
   "source": [
    "### **Functions**\n",
    "\n",
    "#### A function is a block of reusable code that performs a specific task. It can take inputs (called parameters or arguments), execute some logic, and optionally return an output (a result)"
   ]
  },
  {
   "cell_type": "markdown",
   "id": "8d0e1def-e7ac-437b-806e-824e37649f71",
   "metadata": {},
   "source": [
    "#### **Function Structure**\n",
    "\n",
    "#### def function_name(formal parameters):\n",
    "#### &emsp; function body & operations\n",
    "\n",
    "#### &emsp;    return result to caller \n",
    "\n",
    "\n",
    "#### function_name(actual parameters)\n"
   ]
  },
  {
   "cell_type": "markdown",
   "id": "aa91fcae-114e-427a-a9b9-d76238333d01",
   "metadata": {},
   "source": [
    "#### A function must always be defined (created) and called (stated after creation)"
   ]
  },
  {
   "cell_type": "code",
   "execution_count": 51,
   "id": "098bc591-5a6b-4197-9221-bff5c2bb330e",
   "metadata": {},
   "outputs": [],
   "source": [
    "# create a Function that greets someone using a formal parameter as an input "
   ]
  },
  {
   "cell_type": "code",
   "execution_count": 52,
   "id": "63bd2f59-e52f-4549-b355-400848f65713",
   "metadata": {},
   "outputs": [],
   "source": [
    "# Create a function to calculatue the future value of an investment given parameters of an initial investment, annual interest rate and a time period in years"
   ]
  },
  {
   "cell_type": "markdown",
   "id": "d271a82b-363d-4c00-8c2e-a743bd18f3dd",
   "metadata": {},
   "source": [
    "#### **Challenge Question** - Read all steps before beginning\n",
    "\n",
    "####  You are given a list of daily stock returns for the past 3 days. Your task is to:\n",
    "\n",
    "#### 1. Collect the Data: The data consists of 3 daily returns of a stock, each represented by a float.\n",
    "\n",
    "#### 2. Control Flow: Calculate the mean return of the stock for the past 3 days. If the mean return is greater than 0, print \"Positive\". If the mean return is 0, print \"Neutral\". If the mean return is less than 0 print \"Negative\". \n",
    "\n",
    "#### 3.Solve this using a function"
   ]
  },
  {
   "cell_type": "markdown",
   "id": "058a7e96-d09b-4c6d-b7ca-1f463d19ac92",
   "metadata": {},
   "source": [
    "### **Object Oriented Programming**"
   ]
  },
  {
   "cell_type": "markdown",
   "id": "23803f11-273e-49d5-b6c9-6dc92ee70871",
   "metadata": {},
   "source": [
    "#### Object Oriented Programming is a Programming paradigm(style)that organizes software design around objects & their attributes rather than functions and procedures. \n",
    "\n",
    "#### An object is a collection of related information or attributes that can be manipulated with operations it has access to \n",
    "\n",
    "#### Attributes are related features or descriptors that describe an object\n",
    "\n",
    "#### For an Object to exist it has be initialized and set with values and methods\n",
    "\n",
    "#### Methods are functions that live inside an object and have access to the attributes (information) inside of the object\n"
   ]
  },
  {
   "cell_type": "markdown",
   "id": "255a2c51-2482-4db7-9e61-c154cf86f542",
   "metadata": {},
   "source": [
    "### **Every Object is an instance of a Class**\n",
    "\n",
    "#### An object has to be created by a blueprint called a Class. The class initializes and creates object, therefore determining what attributes or infotmation the object will have, acting as a blueprint."
   ]
  },
  {
   "cell_type": "markdown",
   "id": "f153d382-b083-4a56-8c3e-05b02facb476",
   "metadata": {},
   "source": [
    "### You can think of a class as a factory creating new products with capabilities which are the objects and its methods\n",
    "\n",
    "#### We use __init__ to first initialize our object as a definition, then we use *self in every formal parameter to represent the instance of the **class object** itself. It is how a newly created object will refer back to its class, when you create an object you can leave the parenthesis empty since the new object will take the place as self."
   ]
  },
  {
   "cell_type": "code",
   "execution_count": 53,
   "id": "e0e9f2ac-5fd0-40a2-9340-d9a9ffd82b0e",
   "metadata": {},
   "outputs": [],
   "source": [
    "# Create a Class Called Portfolio that creates objects of Stocks you own that have attributes of Tickers, Price, Shares. Then includes methods that let you calculate the total value of your Portfolio and a Method that let you print out your Portfolio     "
   ]
  },
  {
   "cell_type": "markdown",
   "id": "9f53d130-654f-480e-81e4-d2f6693c3200",
   "metadata": {},
   "source": [
    "### **Challenge Question:**\n",
    "\n",
    "#### Write a Python class called Cash Portfolio that tracks cash amounts (like cash deposits or cahs holdings). Each cash entry has a value (e.g., $100). The class should calculate the total value of all cash entries.\n",
    "\n",
    "\n",
    "#### 1. Use a class CashPortfolio with an __init__ method to set up an empty list for cash entries.\n",
    "\n",
    "#### 2.Add an add_cash method to include a cash value.\n",
    "\n",
    "#### 3. Add a total_value method to sum up all the cash values.\n",
    "\n",
    "#### 4. Use self to store and access the portfolio's data\n",
    "\n"
   ]
  }
 ],
 "metadata": {
  "kernelspec": {
   "display_name": "Python 3 (ipykernel)",
   "language": "python",
   "name": "python3"
  },
  "language_info": {
   "codemirror_mode": {
    "name": "ipython",
    "version": 3
   },
   "file_extension": ".py",
   "mimetype": "text/x-python",
   "name": "python",
   "nbconvert_exporter": "python",
   "pygments_lexer": "ipython3",
   "version": "3.12.4"
  }
 },
 "nbformat": 4,
 "nbformat_minor": 5
}
