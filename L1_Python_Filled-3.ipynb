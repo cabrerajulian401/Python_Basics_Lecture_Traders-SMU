{
 "cells": [
  {
   "cell_type": "markdown",
   "id": "24cd22ba-e1c1-4f92-9c9f-9667cb43996b",
   "metadata": {},
   "source": [
    "# Python Basics for Quantitive Finance "
   ]
  },
  {
   "cell_type": "markdown",
   "id": "a361e17e-8121-4c84-b288-7e6ea3bd0677",
   "metadata": {},
   "source": [
    "## Python Progamming Principles \n",
    "\n",
    "### An Alogrithm is a series of steps that execute to perform a specific Task \n",
    "\n",
    "### A Program is a set of coded algorithms to perform a task or solve a problem \n",
    "\n",
    "### Computers are able to understand Algorithms through low level language  \n",
    "\n",
    "### Python is Interpreted from Left to Right & Top to Bottom in a program "
   ]
  },
  {
   "cell_type": "markdown",
   "id": "8e04d0a0-ba24-4556-b005-a5f4123eaeea",
   "metadata": {},
   "source": [
    "## Basic Data Types \n",
    "\n",
    "#### Integer(Int) - Any zero, positive, or negative whole number "
   ]
  },
  {
   "cell_type": "code",
   "execution_count": 30,
   "id": "5962b80a-6d9c-4157-97a2-5f79c5a387e9",
   "metadata": {},
   "outputs": [
    {
     "data": {
      "text/plain": [
       "56456"
      ]
     },
     "execution_count": 30,
     "metadata": {},
     "output_type": "execute_result"
    }
   ],
   "source": [
    "56456   #Have them type out integers "
   ]
  },
  {
   "cell_type": "code",
   "execution_count": 19,
   "id": "e38a0274-7141-4a75-8031-08c9e9fb1e23",
   "metadata": {},
   "outputs": [
    {
     "data": {
      "text/plain": [
       "(-4567,)"
      ]
     },
     "execution_count": 19,
     "metadata": {},
     "output_type": "execute_result"
    }
   ],
   "source": [
    "-4567,"
   ]
  },
  {
   "cell_type": "code",
   "execution_count": 20,
   "id": "73da966a-fe25-456e-b65b-f0c8139e2fe6",
   "metadata": {},
   "outputs": [
    {
     "name": "stdout",
     "output_type": "stream",
     "text": [
      "0\n"
     ]
    }
   ],
   "source": [
    "print(0)"
   ]
  },
  {
   "cell_type": "markdown",
   "id": "6fa0ab70-0cc4-4fcd-b267-0210d7909c31",
   "metadata": {},
   "source": [
    "#### Float(float) - A Float represents any number with a decimal "
   ]
  },
  {
   "cell_type": "code",
   "execution_count": null,
   "id": "e86caea4-2ded-4894-a38c-884f83229de3",
   "metadata": {},
   "outputs": [],
   "source": [
    "print(5.6)"
   ]
  },
  {
   "cell_type": "code",
   "execution_count": null,
   "id": "79367d56-b729-4840-9e47-f6edb0c3bccf",
   "metadata": {},
   "outputs": [],
   "source": [
    "print(7.0)"
   ]
  },
  {
   "cell_type": "code",
   "execution_count": null,
   "id": "deeec9d1-d8d0-4f76-a03d-6be9a4a03119",
   "metadata": {},
   "outputs": [],
   "source": [
    "print(5.7642"
   ]
  },
  {
   "cell_type": "markdown",
   "id": "d8ea68cf-9e4e-4890-a431-eb08b90501d9",
   "metadata": {},
   "source": [
    "#### String(Str) - A Sequence of characters used to represent text, uses Quotation Marks "
   ]
  },
  {
   "cell_type": "code",
   "execution_count": 22,
   "id": "f04249fe-70f0-45f9-9166-d6026607e5d5",
   "metadata": {},
   "outputs": [
    {
     "data": {
      "text/plain": [
       "'Volatility'"
      ]
     },
     "execution_count": 22,
     "metadata": {},
     "output_type": "execute_result"
    }
   ],
   "source": [
    "\"Volatility\""
   ]
  },
  {
   "cell_type": "code",
   "execution_count": 23,
   "id": "47f7194d-f83c-4a38-8e8a-bb506be8b058",
   "metadata": {},
   "outputs": [
    {
     "name": "stdout",
     "output_type": "stream",
     "text": [
      "Vega\n"
     ]
    }
   ],
   "source": [
    "print(\"Vega\")"
   ]
  },
  {
   "cell_type": "code",
   "execution_count": 24,
   "id": "90f0b94c-009e-4d36-917a-cf08f532986f",
   "metadata": {},
   "outputs": [
    {
     "name": "stdout",
     "output_type": "stream",
     "text": [
      "NYSE\n"
     ]
    }
   ],
   "source": [
    "print(\"NYSE\")"
   ]
  },
  {
   "cell_type": "markdown",
   "id": "0db24070-5bad-4eee-830c-7c2abcc0b9f8",
   "metadata": {},
   "source": [
    "#### Get the Data Type of a Value "
   ]
  },
  {
   "cell_type": "code",
   "execution_count": 26,
   "id": "b091fd0e-5839-4d3d-a390-8148802b8bda",
   "metadata": {},
   "outputs": [
    {
     "data": {
      "text/plain": [
       "str"
      ]
     },
     "execution_count": 26,
     "metadata": {},
     "output_type": "execute_result"
    }
   ],
   "source": [
    "type(\"NYSE\")"
   ]
  },
  {
   "cell_type": "code",
   "execution_count": 27,
   "id": "4c189935-3903-416b-8bb8-9c5bb6cefd2d",
   "metadata": {},
   "outputs": [
    {
     "data": {
      "text/plain": [
       "int"
      ]
     },
     "execution_count": 27,
     "metadata": {},
     "output_type": "execute_result"
    }
   ],
   "source": [
    "type(4)"
   ]
  },
  {
   "cell_type": "code",
   "execution_count": 28,
   "id": "99b1f8ee-c424-4178-b812-465c47b28b32",
   "metadata": {},
   "outputs": [
    {
     "data": {
      "text/plain": [
       "float"
      ]
     },
     "execution_count": 28,
     "metadata": {},
     "output_type": "execute_result"
    }
   ],
   "source": [
    "type(4.0)"
   ]
  },
  {
   "cell_type": "markdown",
   "id": "7a0a8bc0-731c-41e9-958e-538f8b2a528b",
   "metadata": {},
   "source": [
    "### Variables and Assignments "
   ]
  },
  {
   "cell_type": "markdown",
   "id": "2d9acc27-f008-4494-96a3-71c7f7e23897",
   "metadata": {},
   "source": [
    "#### Variable - A Reference Name for a stored value \n",
    "\n",
    "#### Variables can be assigned a Designated Expression/Value(Data Type) in your Program\n",
    "#### Variable names are simply string labels \n",
    "\n",
    "#### Structure: Variable_Name = Expression"
   ]
  },
  {
   "cell_type": "code",
   "execution_count": 34,
   "id": "2b99751f-55f4-4d7e-8ca9-b35660dd01b2",
   "metadata": {},
   "outputs": [],
   "source": [
    "variable_name = \"Value\""
   ]
  },
  {
   "cell_type": "code",
   "execution_count": 35,
   "id": "fbc57171-d018-4a2a-bc22-9ec310078375",
   "metadata": {},
   "outputs": [],
   "source": [
    "x = 5 "
   ]
  },
  {
   "cell_type": "markdown",
   "id": "f7044c90-b0ff-4d49-b78a-343c91b32595",
   "metadata": {},
   "source": [
    "Apple_Price = 247.04"
   ]
  },
  {
   "cell_type": "code",
   "execution_count": 38,
   "id": "90ae6395-6842-4776-ad2c-6ce3a1ff2f85",
   "metadata": {},
   "outputs": [
    {
     "name": "stdout",
     "output_type": "stream",
     "text": [
      "247.04\n"
     ]
    }
   ],
   "source": [
    "print(Apple_Price)"
   ]
  },
  {
   "cell_type": "markdown",
   "id": "c23db337-a743-4220-be60-0ca3f6cc036d",
   "metadata": {},
   "source": [
    "#### Python is Interpreted from Left to Right & Top to Bottom in a program, this is key when you are assigning values to variables  "
   ]
  },
  {
   "cell_type": "code",
   "execution_count": 1,
   "id": "7f8cccc3-a506-4bc1-85d4-db5c645eff68",
   "metadata": {},
   "outputs": [
    {
     "name": "stdout",
     "output_type": "stream",
     "text": [
      "3\n"
     ]
    }
   ],
   "source": [
    "x = 2 \n",
    "x = 3 \n",
    "y = x \n",
    "print(y) "
   ]
  },
  {
   "cell_type": "markdown",
   "id": "fb602642-c012-4b22-a916-1c18a316d35d",
   "metadata": {},
   "source": [
    "### Math Operators "
   ]
  },
  {
   "cell_type": "markdown",
   "id": "5fa275cd-afa3-4f68-94f1-bd705d0ef6d9",
   "metadata": {},
   "source": [
    "#### + - * / // % **"
   ]
  },
  {
   "cell_type": "code",
   "execution_count": 4,
   "id": "453fe5ef-5e13-4023-a073-530b4e66fd97",
   "metadata": {},
   "outputs": [
    {
     "data": {
      "text/plain": [
       "10.2"
      ]
     },
     "execution_count": 4,
     "metadata": {},
     "output_type": "execute_result"
    }
   ],
   "source": [
    "5.2 + 5 # Addition "
   ]
  },
  {
   "cell_type": "code",
   "execution_count": 5,
   "id": "6372183b-b741-41b4-a3d8-7af8a8da7848",
   "metadata": {},
   "outputs": [
    {
     "data": {
      "text/plain": [
       "900"
      ]
     },
     "execution_count": 5,
     "metadata": {},
     "output_type": "execute_result"
    }
   ],
   "source": [
    "1000 - 100 # Subtraction "
   ]
  },
  {
   "cell_type": "code",
   "execution_count": 6,
   "id": "e7625bd6-30a1-4d55-91ae-5c272c7f7db3",
   "metadata": {},
   "outputs": [
    {
     "data": {
      "text/plain": [
       "100"
      ]
     },
     "execution_count": 6,
     "metadata": {},
     "output_type": "execute_result"
    }
   ],
   "source": [
    "10 * 10 # Multiplication "
   ]
  },
  {
   "cell_type": "code",
   "execution_count": 10,
   "id": "47a7521b-2488-404f-a829-068afec97634",
   "metadata": {},
   "outputs": [
    {
     "data": {
      "text/plain": [
       "3.3333333333333335"
      ]
     },
     "execution_count": 10,
     "metadata": {},
     "output_type": "execute_result"
    }
   ],
   "source": [
    "10 / 3 # Division with with Remainder "
   ]
  },
  {
   "cell_type": "code",
   "execution_count": 11,
   "id": "056be6c1-c548-4c2e-9b88-e27dfeb9de9f",
   "metadata": {},
   "outputs": [
    {
     "data": {
      "text/plain": [
       "3"
      ]
     },
     "execution_count": 11,
     "metadata": {},
     "output_type": "execute_result"
    }
   ],
   "source": [
    "10 // 3 # Floor Division"
   ]
  },
  {
   "cell_type": "code",
   "execution_count": null,
   "id": "9a9324f3-89c0-4ee6-8ef8-338fba42a7f1",
   "metadata": {},
   "outputs": [],
   "source": [
    "10 % 3 # Modulus to get Remainder "
   ]
  },
  {
   "cell_type": "markdown",
   "id": "f75f94dc-464c-4013-b94b-e11b09d878f5",
   "metadata": {},
   "source": [
    "#### "
   ]
  },
  {
   "cell_type": "markdown",
   "id": "3188f75c-ab06-403b-8549-719c7d6b91ef",
   "metadata": {},
   "source": [
    "#### Exponent Structure: Base ** Exponent "
   ]
  },
  {
   "cell_type": "markdown",
   "id": "499d35a6-9cc2-4583-9f4e-b9a7ac889eaa",
   "metadata": {},
   "source": [
    "#### Exponent Structure: Base ** Exponent "
   ]
  },
  {
   "cell_type": "code",
   "execution_count": null,
   "id": "b4f4c094-9327-4a85-b72b-affb5d794466",
   "metadata": {},
   "outputs": [],
   "source": [
    "2 ** 3 # Exponent Operator "
   ]
  },
  {
   "cell_type": "markdown",
   "id": "e6ee3596-f33a-4ca3-9064-bfe00090bc1c",
   "metadata": {},
   "source": [
    "#### Laws of Pemdas are Followed in Python "
   ]
  },
  {
   "cell_type": "code",
   "execution_count": 17,
   "id": "cc4c5c63-3488-4b5f-82c7-5c844de7d374",
   "metadata": {},
   "outputs": [
    {
     "data": {
      "text/plain": [
       "5"
      ]
     },
     "execution_count": 17,
     "metadata": {},
     "output_type": "execute_result"
    }
   ],
   "source": [
    "(1+1) ** 2 + 1  # Parenthesis are Evaluated First then the Exponent & Addition Follow "
   ]
  },
  {
   "attachments": {},
   "cell_type": "markdown",
   "id": "af4f94c5-b8a3-43af-a62b-bc07619a50ef",
   "metadata": {},
   "source": [
    "### Boolean Logic \n",
    "\n",
    "#### Boolean Logic is mathematical compuation stating that variables can either have binary values of True - 1 and False - 0, these can serve useful in programs "
   ]
  },
  {
   "cell_type": "code",
   "execution_count": 27,
   "id": "1353088f-3de2-4fc9-afb2-6fec2d90329e",
   "metadata": {},
   "outputs": [
    {
     "data": {
      "text/plain": [
       "(True, False)"
      ]
     },
     "execution_count": 27,
     "metadata": {},
     "output_type": "execute_result"
    }
   ],
   "source": [
    "True is True, True is False # Proving Boolean Logic & Binary Values, Saying that 1 is 1 (True) and 0 is not 1 (False)"
   ]
  },
  {
   "cell_type": "code",
   "execution_count": 41,
   "id": "822aaf27-f904-4a96-b52c-6c40cac76105",
   "metadata": {},
   "outputs": [
    {
     "data": {
      "text/plain": [
       "True"
      ]
     },
     "execution_count": 41,
     "metadata": {},
     "output_type": "execute_result"
    }
   ],
   "source": [
    "False is False # Basically saying 0 is 0 "
   ]
  },
  {
   "cell_type": "markdown",
   "id": "f6b6e324-f6a5-450e-b194-e122b60f9dfc",
   "metadata": {},
   "source": [
    "#### and, or , not "
   ]
  },
  {
   "cell_type": "code",
   "execution_count": 36,
   "id": "71ee9e65-5e6f-46dd-ba19-de0097596f98",
   "metadata": {},
   "outputs": [
    {
     "data": {
      "text/plain": [
       "True"
      ]
     },
     "execution_count": 36,
     "metadata": {},
     "output_type": "execute_result"
    }
   ],
   "source": [
    "True and True # Both variables are True(1) therefore it is True(1)"
   ]
  },
  {
   "cell_type": "code",
   "execution_count": 42,
   "id": "9885b1a4-3e98-4e85-9668-f3f90171bd2a",
   "metadata": {},
   "outputs": [
    {
     "data": {
      "text/plain": [
       "0"
      ]
     },
     "execution_count": 42,
     "metadata": {},
     "output_type": "execute_result"
    }
   ],
   "source": [
    "1 and 0 # integer is 1 and the other is 0 therefore it is 0(False) "
   ]
  },
  {
   "cell_type": "code",
   "execution_count": 6,
   "id": "c33c2e4e-02b3-4bb7-b8c3-4c2e850d725b",
   "metadata": {},
   "outputs": [
    {
     "data": {
      "text/plain": [
       "1"
      ]
     },
     "execution_count": 6,
     "metadata": {},
     "output_type": "execute_result"
    }
   ],
   "source": [
    "1 or 0 # Checks if a 1 or 0 is present so it therefore evaluates to 1 (True) "
   ]
  },
  {
   "cell_type": "code",
   "execution_count": 10,
   "id": "49464abe-08a8-4f5b-b1b7-c4d54512a9b3",
   "metadata": {},
   "outputs": [
    {
     "data": {
      "text/plain": [
       "False"
      ]
     },
     "execution_count": 10,
     "metadata": {},
     "output_type": "execute_result"
    }
   ],
   "source": [
    "not 1 # Evaluates as False since 1 is present in the statement "
   ]
  },
  {
   "cell_type": "markdown",
   "id": "6959bf36-4925-46f7-ad07-b330d6fd8999",
   "metadata": {},
   "source": [
    "#### **Comparison Operators**\n",
    "\n",
    "#### < > <= >= == != "
   ]
  },
  {
   "cell_type": "code",
   "execution_count": 2,
   "id": "b957198e-0f9f-4f02-93c4-244c6860f1c7",
   "metadata": {},
   "outputs": [
    {
     "data": {
      "text/plain": [
       "True"
      ]
     },
     "execution_count": 2,
     "metadata": {},
     "output_type": "execute_result"
    }
   ],
   "source": [
    "10 <= 10 # Checks that 10 is less that or equal to 10"
   ]
  },
  {
   "cell_type": "code",
   "execution_count": 1,
   "id": "67b90794-39cb-40ed-a0dc-fc79c089e907",
   "metadata": {},
   "outputs": [
    {
     "data": {
      "text/plain": [
       "True"
      ]
     },
     "execution_count": 1,
     "metadata": {},
     "output_type": "execute_result"
    }
   ],
   "source": [
    "54 > 10 # Checks the condition that 54 is greater than 10 and that 10 is less thatn 54  "
   ]
  },
  {
   "cell_type": "code",
   "execution_count": 11,
   "id": "6f4b525e-d21a-4ced-a243-9cac9ca0260b",
   "metadata": {},
   "outputs": [
    {
     "data": {
      "text/plain": [
       "True"
      ]
     },
     "execution_count": 11,
     "metadata": {},
     "output_type": "execute_result"
    }
   ],
   "source": [
    "10 >= 10 # Checks the condition if 10 is more than or equal to 10 "
   ]
  },
  {
   "cell_type": "code",
   "execution_count": 4,
   "id": "3d674336-97a6-49cc-9eef-6be2a21695be",
   "metadata": {},
   "outputs": [
    {
     "data": {
      "text/plain": [
       "True"
      ]
     },
     "execution_count": 4,
     "metadata": {},
     "output_type": "execute_result"
    }
   ],
   "source": [
    "10 == 10 # Checks if 10 is equal to 10, note that == is for an equality check and = is for assignment"
   ]
  },
  {
   "cell_type": "code",
   "execution_count": 13,
   "id": "4d30da11-991b-4f75-a2b7-d247ccfe1993",
   "metadata": {},
   "outputs": [
    {
     "data": {
      "text/plain": [
       "True"
      ]
     },
     "execution_count": 13,
     "metadata": {},
     "output_type": "execute_result"
    }
   ],
   "source": [
    "10 != 11 # Checks if 10 is not equal to 11 and evaluates as True"
   ]
  },
  {
   "cell_type": "markdown",
   "id": "a2e97e36-8899-40fe-8617-da868233a08d",
   "metadata": {},
   "source": [
    "#### **Challenge Quesion** - read all steps before beginning\n",
    "\n",
    "#### 1. Find a number and assign it to the variable x\n",
    "\n",
    "#### 2. Multiply that variable by 2 and assign that to the variable SOFI_Ticker_Price. \n",
    "\n",
    "#### 3. Perform a boolean condition to prove that the SOFT_Ticker_Price is more than 10 and less than 20. \n",
    "\n",
    "#### 4. Your Output should show \"True\" "
   ]
  },
  {
   "cell_type": "code",
   "execution_count": 32,
   "id": "8681ce2f-3bd7-44c0-962d-93a8bb758dd5",
   "metadata": {},
   "outputs": [
    {
     "data": {
      "text/plain": [
       "True"
      ]
     },
     "execution_count": 32,
     "metadata": {},
     "output_type": "execute_result"
    }
   ],
   "source": [
    "x = 6 # Assigning 6 to x \n",
    "\n",
    "SOFI_Ticker_Price = x * 2 # Assigning y the value of x times 2 \n",
    "\n",
    "10 < SOFI_Ticker_Price < 20 # Proving that SOFI_Ticker_Price is greater than 10 and less than 20 \n",
    "\n"
   ]
  },
  {
   "cell_type": "markdown",
   "id": "874a0011-6e7c-419e-9392-7e867100c65c",
   "metadata": {},
   "source": [
    "### **Data Collection Types** - A Data Collection is a Data Type that can hold multiple items or values\n",
    "\n",
    "#### Lists, Tuples, Dictionaries"
   ]
  },
  {
   "cell_type": "markdown",
   "id": "137a0a8c-b24f-4f1f-8937-f93d7a25e56f",
   "metadata": {},
   "source": [
    "#### **Data Collections & Types can be immutable or mutable**\n",
    "\n",
    "#### ***Immutable***: information/attributes that cannot be changed or altered after it is created \n",
    "#### - examples of Immutable Data Types: Integers, Floats, Strings, Tuples \n",
    "\n",
    "\n",
    "#### ***Mutable***: information/attributes that can be changed or altered after it is created \n",
    "#### - examples of Mutable Data Types: Lists, Dictionaries "
   ]
  },
  {
   "cell_type": "markdown",
   "id": "ceca0753-4acd-4bf8-857f-38efd5c79899",
   "metadata": {},
   "source": [
    "### Lists - data structure that represents an ordered, mutable collection of items\n",
    "\n",
    "#### structure:   my_list = [ item1, item2, item3 ] "
   ]
  },
  {
   "cell_type": "code",
   "execution_count": 25,
   "id": "06caed8d-fc15-4df7-a36a-0d4c3ff345eb",
   "metadata": {},
   "outputs": [
    {
     "data": {
      "text/plain": [
       "[284.65, 290.32, 285.62]"
      ]
     },
     "execution_count": 25,
     "metadata": {},
     "output_type": "execute_result"
    }
   ],
   "source": [
    "tesla_prices = [284.65, 290.32, 285.62] \n",
    "\n",
    "tesla_prices"
   ]
  },
  {
   "cell_type": "code",
   "execution_count": 41,
   "id": "062bdd88-fd33-41f9-9e00-8c48dee30995",
   "metadata": {},
   "outputs": [
    {
     "data": {
      "text/plain": [
       "[]"
      ]
     },
     "execution_count": 41,
     "metadata": {},
     "output_type": "execute_result"
    }
   ],
   "source": [
    "apple_prices = []\n",
    "\n",
    "apple_prices"
   ]
  },
  {
   "cell_type": "code",
   "execution_count": 42,
   "id": "18dc94e9-b82b-4592-93cc-0c9ee0dea62e",
   "metadata": {},
   "outputs": [
    {
     "data": {
      "text/plain": [
       "[238.03]"
      ]
     },
     "execution_count": 42,
     "metadata": {},
     "output_type": "execute_result"
    }
   ],
   "source": [
    "apple_prices.append(238.03)\n",
    "\n",
    "apple_prices"
   ]
  },
  {
   "cell_type": "markdown",
   "id": "b173a321-b1cd-41d7-89fc-baa0e05d5893",
   "metadata": {},
   "source": [
    "### Tuple - a built in data structure that represents an ordered, immutable collection of all data types - Tuples are a great way to respresent records or constant values \n",
    "\n",
    "#### structure: my_tuple = ( item1, item2, item3 )"
   ]
  },
  {
   "cell_type": "code",
   "execution_count": 22,
   "id": "6189806e-2759-4286-a568-2a5090ca7195",
   "metadata": {},
   "outputs": [],
   "source": [
    "trade_record = (1001, \"2025-03-03\", \"AAPL\", 238.03, 100, \"buy\") "
   ]
  },
  {
   "cell_type": "markdown",
   "id": "02e6fd98-169f-4e72-b8bc-9c9514905a29",
   "metadata": {},
   "source": [
    "#### Dictionary - a built in data structure that represents an unordered, mutable collection of key-value pairs \n",
    "\n",
    "#### structure -  my_dict = { key1:value1, key2:value2, key3:value3 }"
   ]
  },
  {
   "cell_type": "code",
   "execution_count": 52,
   "id": "03bd12ef-4877-4292-adaa-3ebfe595de3c",
   "metadata": {},
   "outputs": [
    {
     "data": {
      "text/plain": [
       "{'APPL': 238.03, 'GOOG': 142.32, 'TSLA': 285.62}"
      ]
     },
     "execution_count": 52,
     "metadata": {},
     "output_type": "execute_result"
    }
   ],
   "source": [
    "stock_prices = {\"APPL\":238.03,\"GOOG\":142.32,\"TSLA\":285.62}\n",
    "stock_prices"
   ]
  },
  {
   "cell_type": "markdown",
   "id": "71250c71-967b-4c8c-8810-b874b8ff9119",
   "metadata": {},
   "source": [
    "#### **Python is 0-indexed**. You can access values inside Lists and Tuples using Indexes"
   ]
  },
  {
   "cell_type": "code",
   "execution_count": 48,
   "id": "6bb52a81-6866-4dc7-b241-ec4c2d2cd92b",
   "metadata": {},
   "outputs": [
    {
     "data": {
      "text/plain": [
       "284.65"
      ]
     },
     "execution_count": 48,
     "metadata": {},
     "output_type": "execute_result"
    }
   ],
   "source": [
    "tesla_prices[0] "
   ]
  },
  {
   "cell_type": "code",
   "execution_count": 49,
   "id": "543e48c0-f498-4f03-a0e4-30fea389bfc9",
   "metadata": {},
   "outputs": [
    {
     "data": {
      "text/plain": [
       "1001"
      ]
     },
     "execution_count": 49,
     "metadata": {},
     "output_type": "execute_result"
    }
   ],
   "source": [
    "trade_record[0]"
   ]
  },
  {
   "cell_type": "code",
   "execution_count": 26,
   "id": "d3f26b9b-2da6-4cda-a635-00adc605696f",
   "metadata": {},
   "outputs": [
    {
     "data": {
      "text/plain": [
       "[284.65, 290.32, 285.62]"
      ]
     },
     "execution_count": 26,
     "metadata": {},
     "output_type": "execute_result"
    }
   ],
   "source": [
    "tesla_prices[0:]"
   ]
  },
  {
   "cell_type": "markdown",
   "id": "36d7c5b7-f137-4944-a912-821e0319eb1a",
   "metadata": {},
   "source": [
    "#### You can access Dictionary Values using a Key\n",
    "\n",
    "#### Remember - structure :  my_dict = { key1:value1, key2:value2, key3:value3 }"
   ]
  },
  {
   "cell_type": "code",
   "execution_count": 55,
   "id": "71109a32-467e-45b6-a844-da3b6959cd57",
   "metadata": {},
   "outputs": [
    {
     "data": {
      "text/plain": [
       "238.03"
      ]
     },
     "execution_count": 55,
     "metadata": {},
     "output_type": "execute_result"
    }
   ],
   "source": [
    "stock_prices[\"APPL\"]"
   ]
  },
  {
   "cell_type": "markdown",
   "id": "e5917274-fc3c-4349-b766-dfa2718ebced",
   "metadata": {},
   "source": [
    "### **Control Flow** \n",
    "\n",
    "### Control Flow refers to the order/decision structure in which a program's statements or instructions are executed \n",
    "\n",
    "\n"
   ]
  },
  {
   "cell_type": "markdown",
   "id": "d6778387-b2fb-4500-8c46-30fff47355ba",
   "metadata": {},
   "source": [
    "#### Common Control Flow Statements: \n",
    "\n",
    "#### - Conditional Statements, Logical Statements, Loops "
   ]
  },
  {
   "cell_type": "markdown",
   "id": "266380f3-e9f7-4e57-b61c-e117e43e1895",
   "metadata": {},
   "source": [
    "#### *Note that Control Flow is Indentation Sensitive meaning that Python Interprets code statements from left to right*"
   ]
  },
  {
   "cell_type": "markdown",
   "id": "639159c7-f97a-4db1-86f4-32acea2114c9",
   "metadata": {},
   "source": [
    "### Conditional Statements: if , else statement (2 Decisions)\n",
    "\n",
    "#### **Structure**-\n",
    "\n",
    "#### if condition:\n",
    "####              &emsp;  code to execute if condition is True\n",
    "          \n",
    "####             else:\n",
    "####              &emsp;   code to execute if condition is False\n",
    "    "
   ]
  },
  {
   "cell_type": "code",
   "execution_count": 56,
   "id": "712a4985-7c18-498c-86f9-71898ab1b0b2",
   "metadata": {},
   "outputs": [
    {
     "name": "stdout",
     "output_type": "stream",
     "text": [
      "Buy Stock\n"
     ]
    }
   ],
   "source": [
    "stock_price = 175.50\n",
    "target_price = 180.00\n",
    "\n",
    "if stock_price < target_price:\n",
    "    print(\"Buy Stock\")\n",
    "else:\n",
    "    print(\"Sell or Hold Stock\")"
   ]
  },
  {
   "cell_type": "markdown",
   "id": "3a787c3a-7c1b-47f5-8fb8-278f4147b978",
   "metadata": {},
   "source": [
    "### Conditional Statements: elif statement (more than 2 decisions)\n",
    "\n",
    "#### **Structure**-\n",
    "\n",
    "#### if condition1\n",
    "#### &emsp;code to execute if condition1 is True\n",
    "  \n",
    "#### elif condition2:\n",
    "#### &emsp;code to execute if condition2 is True\n",
    "    \n",
    "#### else:\n",
    "#### &emsp; code to execute if none of the conditions are True\n",
    "    "
   ]
  },
  {
   "cell_type": "code",
   "execution_count": 1,
   "id": "8cf5051a-406e-45c7-87e1-17e034dc0948",
   "metadata": {},
   "outputs": [
    {
     "name": "stdout",
     "output_type": "stream",
     "text": [
      "Bullish: Consider buying\n"
     ]
    }
   ],
   "source": [
    "# Moving Average Trade using two varaiables \n",
    "\n",
    "short_ma = 98\n",
    "long_ma = 95 \n",
    "\n",
    "if short_ma > long_ma:\n",
    "    print(\"Bullish: Consider buying\")\n",
    "\n",
    "elif short_ma < long_ma:\n",
    "    print(\"Bearish: Consider selling\")\n",
    "\n",
    "else:\n",
    "    print(\"Neutral: Hold position\")\n"
   ]
  },
  {
   "cell_type": "markdown",
   "id": "3e3903a8-e6bc-46b4-95c1-f4a759becb6f",
   "metadata": {},
   "source": [
    "### Boolean Condition Statements (Extended)"
   ]
  },
  {
   "cell_type": "markdown",
   "id": "28901966-467e-459c-87b5-c5fa580d3267",
   "metadata": {},
   "source": [
    "#### Note that a Boolean will Execute if it is True(1) or Present in a Conditional Statement\n",
    "\n",
    "#### Look at the example of the variable is_market_open in this example below "
   ]
  },
  {
   "cell_type": "markdown",
   "id": "4140ff8f-18a0-401b-8083-543cf17e1a43",
   "metadata": {},
   "source": [
    "#### *Note that for a Boolean to Execute in a Conditional Statement it has to be True(1) or simply Preent in the Statement*\n",
    "\n",
    "#### **Therefore look at the variable is_market_open in the example below**"
   ]
  },
  {
   "cell_type": "code",
   "execution_count": 2,
   "id": "352980c7-b38c-413b-a2b9-db1196f1b086",
   "metadata": {},
   "outputs": [
    {
     "name": "stdout",
     "output_type": "stream",
     "text": [
      "Strong Buy: Price above MA and high volume\n"
     ]
    }
   ],
   "source": [
    "price = 100\n",
    "moving_average = 95\n",
    "volume = 10000\n",
    "avg_volume = 8000\n",
    "is_market_open = True\n",
    "\n",
    "# Boolean control flow with logical operators\n",
    "if price > moving_average and volume > avg_volume:\n",
    "    print(\"Strong Buy: Price above MA and high volume\")\n",
    "    \n",
    "elif price > moving_average or volume > avg_volume:\n",
    "    print(\"Weak Buy: Either price above MA or high volume\")\n",
    "    \n",
    "elif price < moving_average and not is_market_open:\n",
    "    print(\"After-Hours Sell: Price below MA and market closed\")\n",
    "    \n",
    "elif price == moving_average:\n",
    "    print(\"Neutral: Price at moving average\")\n",
    "    \n",
    "else:\n",
    "    print(\"Hold: No clear trading signal\")"
   ]
  },
  {
   "cell_type": "markdown",
   "id": "ed19c54a-0755-4369-b625-f1073273dca7",
   "metadata": {},
   "source": [
    "### **For Loops**\n",
    "\n",
    "#### Loops are Control structures that allow you to repeat a block of code a fixed number of times or iterate over a sequence "
   ]
  },
  {
   "cell_type": "markdown",
   "id": "4713b819-186f-40e3-ac44-c8253000f357",
   "metadata": {},
   "source": [
    "#### **For Loop Structure** \n",
    "\n",
    "#### for var in sequence:\n",
    "#### &emsp; statement 1 \n",
    "#### &emsp; statement 2 "
   ]
  },
  {
   "cell_type": "code",
   "execution_count": 5,
   "id": "9c33f633-2e03-4f4f-9594-7730a0a087d7",
   "metadata": {},
   "outputs": [
    {
     "name": "stdout",
     "output_type": "stream",
     "text": [
      "1\n",
      "2\n",
      "3\n"
     ]
    }
   ],
   "source": [
    "prices = [10,11,12]\n",
    "\n",
    "for price in prices:\n",
    "    profit = price - 9\n",
    "    print(profit)"
   ]
  },
  {
   "cell_type": "markdown",
   "id": "83eaeed7-a926-422e-b7aa-2c502fa63c6e",
   "metadata": {},
   "source": [
    "### break Statement\n",
    "\n",
    "#### A break Statement is used in loops & conditional statement combinations to immediately terminate the loop and escape it when a certain condition is met"
   ]
  },
  {
   "cell_type": "markdown",
   "id": "d861789b-68ab-4b4d-bf42-d56c96c09b50",
   "metadata": {},
   "source": [
    "#### **break Structure**\n",
    "\n",
    "#### for variable in sequence:\n",
    "\n",
    "#### &emsp;       if condition: \n",
    "#### &emsp;&emsp;           code to execute if condition is True\n",
    "#### &emsp;&emsp;           break "
   ]
  },
  {
   "cell_type": "code",
   "execution_count": 10,
   "id": "025b7825-474e-405a-b2a0-1bb2ad7b509a",
   "metadata": {},
   "outputs": [
    {
     "name": "stdout",
     "output_type": "stream",
     "text": [
      "Price: 100 Cumulative P/L: 0\n",
      "Price: 102 Cumulative P/L: 2\n",
      "Price: 99 Cumulative P/L: 1\n",
      "Price: 105 Cumulative P/L: 6\n",
      "  Sell! Hit profit target of 5\n"
     ]
    }
   ],
   "source": [
    "# List of daily stock prices\n",
    "prices = [100, 102, 99, 105, 103, 107, 98]\n",
    "\n",
    "# Initial setup\n",
    "buy_price = 100      # Price stock was bought at\n",
    "cumulative_pl = 0    # Cumulative profit/loss\n",
    "profit_target = 5    # Sell if profit reaches 5\n",
    "stop_loss = -3       # Sell if loss reaches -3\n",
    "\n",
    "# Loop through prices\n",
    "for price in prices:\n",
    "    daily_pl = price - buy_price      # Daily profit/loss\n",
    "    cumulative_pl += daily_pl         # Add to cumulative total\n",
    "    \n",
    "    print(\"Price:\", price, \"Cumulative P/L:\", cumulative_pl)\n",
    "    \n",
    "    # Check sell conditions\n",
    "    if cumulative_pl >= profit_target:\n",
    "        print(\"  Sell! Hit profit target of\", profit_target)\n",
    "        break\n",
    "    elif cumulative_pl <= stop_loss:\n",
    "        print(\"  Sell! Hit stop-loss of\", stop_loss)\n",
    "        break"
   ]
  },
  {
   "cell_type": "markdown",
   "id": "9180f45f-204f-485d-bf77-46c8b5d11202",
   "metadata": {},
   "source": [
    "### **while Loop**\n",
    "\n",
    "#### A while loop in Python is a control structure that repeatedly executes a block of code as long as a specified condition remains True."
   ]
  },
  {
   "cell_type": "markdown",
   "id": "f2dcc748-cd69-4cb1-840d-818daa412095",
   "metadata": {},
   "source": [
    "#### while Loop Structure\n",
    "\n",
    "#### while condition:\n",
    "\n",
    "#### &emsp;code to execute if condition is True\n"
   ]
  },
  {
   "cell_type": "code",
   "execution_count": 13,
   "id": "cb3a4a93-9e92-4b92-ad07-4f874404e3df",
   "metadata": {},
   "outputs": [
    {
     "name": "stdout",
     "output_type": "stream",
     "text": [
      "1 101\n",
      "2 102\n",
      "3 103\n",
      "4 104\n",
      "5 105\n",
      "6 106\n",
      "7 107\n",
      "8 108\n",
      "9 109\n",
      "10 110\n",
      "11 111\n",
      "12 112\n",
      "13 113\n",
      "14 114\n",
      "15 115\n",
      "16 116\n",
      "17 117\n",
      "18 118\n",
      "19 119\n",
      "20 120\n",
      "Target reached at iteration 20\n"
     ]
    }
   ],
   "source": [
    "stock_price = 100\n",
    "target_price = 120\n",
    "iterations = 0\n",
    "\n",
    "while True:\n",
    "    stock_price += 1 # This Statement is equal to stock_price = stock_price + 1 \n",
    "    iterations += 1\n",
    "\n",
    "    print(iterations, stock_price)\n",
    "\n",
    "    if stock_price >= target_price:\n",
    "        print(\"Target reached at iteration\", iterations)\n",
    "        break"
   ]
  },
  {
   "cell_type": "markdown",
   "id": "799edfc8-7719-46a4-92d8-63d2349eab4a",
   "metadata": {},
   "source": [
    "### **Functions**\n",
    "\n",
    "#### A function is a block of reusable code that performs a specific task. It can take inputs (called parameters or arguments), execute some logic, and optionally return an output (a result)"
   ]
  },
  {
   "cell_type": "markdown",
   "id": "8d0e1def-e7ac-437b-806e-824e37649f71",
   "metadata": {},
   "source": [
    "#### **Function Structure**\n",
    "\n",
    "#### def function_name(formal parameters):\n",
    "#### &emsp; function body & operations\n",
    "\n",
    "#### &emsp;    return result to caller \n",
    "\n",
    "\n",
    "#### function_name(actual parameters)\n"
   ]
  },
  {
   "cell_type": "markdown",
   "id": "aa91fcae-114e-427a-a9b9-d76238333d01",
   "metadata": {},
   "source": [
    "#### A function must always be defined (created) and called (stated after creation)"
   ]
  },
  {
   "cell_type": "code",
   "execution_count": 18,
   "id": "098bc591-5a6b-4197-9221-bff5c2bb330e",
   "metadata": {},
   "outputs": [
    {
     "name": "stdout",
     "output_type": "stream",
     "text": [
      "Hello Jack\n"
     ]
    }
   ],
   "source": [
    "def function(person): # function is created with the formal parameter person\n",
    "    \n",
    "    print(\"Hello\", person ) # the body execution of the function\n",
    "\n",
    "    return \n",
    "\n",
    "x = \"Jack\"\n",
    "\n",
    "function(x)  # the function name calls on the function to execute with an actual parameter"
   ]
  },
  {
   "cell_type": "code",
   "execution_count": 20,
   "id": "63bd2f59-e52f-4549-b355-400848f65713",
   "metadata": {},
   "outputs": [
    {
     "name": "stdout",
     "output_type": "stream",
     "text": [
      "The future value is of the Investment is  1276.2815625000003\n"
     ]
    }
   ],
   "source": [
    "def future_value(P, r, t):\n",
    "  \n",
    "    FV = P * (1 + r) ** t\n",
    "    return FV\n",
    "\n",
    "# Example parameters\n",
    "P = 1000  # Initial investment of $1000\n",
    "r = 0.05  # Annual interest rate of 5%\n",
    "t = 5     # Investment period of 5 years\n",
    "\n",
    "# Call the function\n",
    "future_value_amount = future_value(P, r, t)\n",
    "print(\"The future value is of the Investment is \", future_value_amount)"
   ]
  },
  {
   "cell_type": "markdown",
   "id": "10cc21e9-b9c7-4a31-9115-0f9730aca497",
   "metadata": {},
   "source": [
    "#### You can call functions in other functions which is called **Nesting Functions** \n",
    "\n",
    "#### This means you can have a Main Function and Sub-Functions"
   ]
  },
  {
   "cell_type": "code",
   "execution_count": null,
   "id": "08a09bb3-16a9-4a55-b4ae-93c89c5bf926",
   "metadata": {},
   "outputs": [],
   "source": [
    "def trading_strategy():\n",
    "    # Subprogram to generate buy and sell signals based on simple price comparison\n",
    "    def generate_signals(prices):\n",
    "        signals = []\n",
    "        previous_price = prices[0]  # Start with the first price\n",
    "        for current_price in prices[1:]:  # Start from the second price\n",
    "            if current_price > previous_price:\n",
    "                signals.append(\"Buy\")\n",
    "            elif current_price < previous_price:\n",
    "                signals.append(\"Sell\")\n",
    "            else:\n",
    "                signals.append(\"Hold\")\n",
    "            previous_price = current_price  # Update previous price\n",
    "        return signals\n",
    "\n",
    "    # Main program to execute the trading strategy\n",
    "    def main():\n",
    "        # Example stock prices (simulating daily closing prices)\n",
    "        prices = [100, 102, 105, 103, 108, 112, 115, 118, 120]\n",
    "\n",
    "        # Generate buy, sell, and hold signals\n",
    "        signals = generate_signals(prices)\n",
    "\n",
    "        # Print the results\n",
    "        day = 2  # Starting day (since the first signal compares day 2 with day 1)\n",
    "        for signal in signals:\n",
    "            print(\"Day\", day, \"- Signal:\", signal)\n",
    "            day += 1\n",
    "\n",
    "    # Run the main program\n",
    "    main()\n",
    "\n",
    "# Execute the trading strategy\n",
    "trading_strategy()\n"
   ]
  },
  {
   "cell_type": "markdown",
   "id": "d271a82b-363d-4c00-8c2e-a743bd18f3dd",
   "metadata": {},
   "source": [
    "#### **Challenge Question** - Read all steps before beginning\n",
    "\n",
    "####  You are given a list of daily stock returns for the past 3 days. Your task is to:\n",
    "\n",
    "#### 1. Collect the Data: The data consists of 3 daily returns of a stock, each represented by a float.\n",
    "\n",
    "#### 2. Control Flow: Calculate the mean return of the stock for the past 3 days. If the mean return is greater than 0, print \"Positive\". If the mean return is 0, print \"Neutral\". If the mean return is less than 0 print \"Negative\". \n",
    "\n",
    "#### 3.Solve this using at least one function "
   ]
  },
  {
   "cell_type": "code",
   "execution_count": 27,
   "id": "c89dd24c-4c65-414a-a53e-7044042322fb",
   "metadata": {},
   "outputs": [
    {
     "name": "stdout",
     "output_type": "stream",
     "text": [
      "Stock Classification: Positive\n"
     ]
    }
   ],
   "source": [
    "returns = [0.02, -0.01, 0.01]  # Data Sample\n",
    "\n",
    "def analyze_stock_returns(returns):\n",
    "    # Calculate mean return and classify in one function\n",
    "    mean_return = sum(returns) / len(returns)  # More flexible than hardcoding 3\n",
    "    if mean_return > 0:\n",
    "        return \"Positive\"\n",
    "    elif mean_return == 0:\n",
    "        return \"Neutral\"\n",
    "    else:\n",
    "        return \"Negative\"\n",
    "\n",
    "# Get classification and print result\n",
    "classification = analyze_stock_returns(returns)\n",
    "print(\"Stock Classification:\", classification)"
   ]
  },
  {
   "cell_type": "markdown",
   "id": "058a7e96-d09b-4c6d-b7ca-1f463d19ac92",
   "metadata": {},
   "source": [
    "### **Object Oriented Programming**"
   ]
  },
  {
   "cell_type": "markdown",
   "id": "23803f11-273e-49d5-b6c9-6dc92ee70871",
   "metadata": {},
   "source": [
    "#### Object Oriented Programming is a Programming paradigm(style)that organizes software design around objects & their attributes rather than functions and procedures. \n",
    "\n",
    "#### An object is a collection of related information or attributes that can be manipulated with operations it has access to \n",
    "\n",
    "#### Attributes are related features or descriptors that describe an object\n",
    "\n",
    "#### For an Object to exist it has be initialized and set with values and methods\n",
    "\n",
    "#### Methods are functions that live inside an object and have access to the attributes (information) inside of the object\n"
   ]
  },
  {
   "cell_type": "markdown",
   "id": "255a2c51-2482-4db7-9e61-c154cf86f542",
   "metadata": {},
   "source": [
    "### **Every Object is an instance of a Class**\n",
    "\n",
    "#### An object has to be created by a blueprint called a Class. The class initializes and creates object, therefore determining what attributes or infotmation the object will have, acting as a blueprint."
   ]
  },
  {
   "cell_type": "markdown",
   "id": "f153d382-b083-4a56-8c3e-05b02facb476",
   "metadata": {},
   "source": [
    "### You can think of a class as a factory creating new products with capabilities which are the objects and its methods\n",
    "\n",
    "#### We use __init__ to first initialize our object as a definition, then we use *self in every formal parameter to represent the instance of the **class object** itself. It is how a newly created object will refer back to its class, when you create an object you can leave the parenthesis empty since the new object will take the place as self."
   ]
  },
  {
   "cell_type": "code",
   "execution_count": 4,
   "id": "e0e9f2ac-5fd0-40a2-9340-d9a9ffd82b0e",
   "metadata": {},
   "outputs": [
    {
     "name": "stdout",
     "output_type": "stream",
     "text": [
      "Total Value of my Portfolio:  2950\n"
     ]
    }
   ],
   "source": [
    "class Portfolio:\n",
    "    def __init__(self, name):\n",
    "        self.name = name\n",
    "        self.total = 0 \n",
    "\n",
    "    def add_stock(self, price, shares):\n",
    "\n",
    "        money  = price * shares \n",
    "        self.total = self.total + money \n",
    "\n",
    "def main():\n",
    "\n",
    "    my_portfolio = Portfolio(\"My Stocks\")\n",
    "    my_portfolio.add_stock(175, 10)\n",
    "    my_portfolio.add_stock(240, 5)\n",
    "\n",
    "    print(\"Total Value of my Portfolio: \", my_portfolio.total)\n",
    "\n",
    "main()"
   ]
  },
  {
   "cell_type": "markdown",
   "id": "9f53d130-654f-480e-81e4-d2f6693c3200",
   "metadata": {},
   "source": [
    "### **Challenge Question:**\n",
    "\n",
    "#### Write a Python class called Cash Portfolio that tracks cash amounts (like cash deposits or cahs holdings). Each cash entry has a value (e.g., $100). The class should calculate the total value of all cash entries.\n",
    "\n",
    "\n",
    "#### 1. Use a class CashPortfolio with an __init__ method to set up an empty list for cash entries.\n",
    "\n",
    "#### 2.Add an add_cash method to include a cash value.\n",
    "\n",
    "#### 3. Add a total_value method to sum up all the cash values.\n",
    "\n",
    "#### 4. Use self to store and access the portfolio's data\n",
    "\n"
   ]
  },
  {
   "cell_type": "code",
   "execution_count": 29,
   "id": "538bebdb-0449-42a5-b883-e5e3be529db3",
   "metadata": {},
   "outputs": [
    {
     "name": "stdout",
     "output_type": "stream",
     "text": [
      "150\n"
     ]
    }
   ],
   "source": [
    "class CashPortfolio:\n",
    "    def __init__(self):\n",
    "        self.cash = []  # Empty list for cash values\n",
    "    \n",
    "    def add_cash(self, value):\n",
    "        self.cash.append(value)  # Add the value to the list\n",
    "    \n",
    "    def total_value(self):\n",
    "        total = 0\n",
    "        for amount in self.cash:\n",
    "            total = total + amount\n",
    "        return total\n",
    "\n",
    "# Test it\n",
    "my_cash = CashPortfolio()\n",
    "my_cash.add_cash(100)\n",
    "my_cash.add_cash(50)\n",
    "print(my_cash.total_value())  # Outputs: 150"
   ]
  }
 ],
 "metadata": {
  "kernelspec": {
   "display_name": "Python 3 (ipykernel)",
   "language": "python",
   "name": "python3"
  },
  "language_info": {
   "codemirror_mode": {
    "name": "ipython",
    "version": 3
   },
   "file_extension": ".py",
   "mimetype": "text/x-python",
   "name": "python",
   "nbconvert_exporter": "python",
   "pygments_lexer": "ipython3",
   "version": "3.12.4"
  }
 },
 "nbformat": 4,
 "nbformat_minor": 5
}
